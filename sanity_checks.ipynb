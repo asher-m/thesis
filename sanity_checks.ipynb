{
 "cells": [
  {
   "cell_type": "code",
   "execution_count": 1,
   "id": "03978535",
   "metadata": {},
   "outputs": [
    {
     "name": "stdout",
     "output_type": "stream",
     "text": [
      "This unreleased version of SpacePy is not supported by the SpacePy team.\n"
     ]
    }
   ],
   "source": [
    "import copy\n",
    "import datetime\n",
    "import isois\n",
    "import numpy as np\n",
    "import spacepy.pycdf\n",
    "import types\n",
    "\n",
    "import data_jat as data\n"
   ]
  },
  {
   "cell_type": "code",
   "execution_count": 2,
   "id": "428ea553",
   "metadata": {},
   "outputs": [
    {
     "name": "stdout",
     "output_type": "stream",
     "text": [
      "Found cached data from file eventdata_joyce-apj-tab2_20210420.pickle3.bz2, using contents...\n"
     ]
    }
   ],
   "source": [
    "d = data.Data('joyce-apj-tab2')\n",
    "d.read_data()\n"
   ]
  },
  {
   "cell_type": "code",
   "execution_count": 3,
   "id": "735a1029",
   "metadata": {},
   "outputs": [
    {
     "name": "stdout",
     "output_type": "stream",
     "text": [
      "This printed, so apparently event/quiet time handling is working!\n"
     ]
    }
   ],
   "source": [
    "# check eventtimes\n",
    "times = np.array([('2018-296T14:00:00', '2018-314T16:00:00'),\n",
    "                  ('2018-325T08:00:00', '2018-327T00:00:00'),\n",
    "                  ('2019-007T00:00:00', '2019-011T12:00:00'),\n",
    "                  ('2019-181T09:00:00', '2019-191T18:00:00')])\n",
    "string2datetime = np.vectorize(lambda s: datetime.datetime.strptime(s, '%Y-%jT%H:%M:%S')) # probably unnecessary, but...\n",
    "times = string2datetime(times)\n",
    "\n",
    "assert(all(times[0] == d.eventtimes[0]))\n",
    "assert(all(times[1] == d.eventtimes[1]))\n",
    "assert(all(times[2] == d.eventtimes[2]))\n",
    "assert(all(times[-1] == d.eventtimes[-1]))\n",
    "\n",
    "print('This printed, so apparently event/quiet time handling is working!')\n"
   ]
  },
  {
   "cell_type": "code",
   "execution_count": 4,
   "id": "575dc9ef",
   "metadata": {},
   "outputs": [
    {
     "name": "stdout",
     "output_type": "stream",
     "text": [
      "This printed, so apparently file creation is working!\n"
     ]
    }
   ],
   "source": [
    "# check data contents\n",
    "e0 = d.eventdata[0]['ChanP']['epoch'][0]\n",
    "eF = d.eventdata[0]['ChanP']['epoch'][-1]\n",
    "files = d._get_files('psp_isois-epilo_l2-ic',\n",
    "                     spacepy.pycdf.lib.tt2000_to_datetime(e0),\n",
    "                     spacepy.pycdf.lib.tt2000_to_datetime(eF))\n",
    "\n",
    "c = spacepy.pycdf.CDF(files[0])\n",
    "f_start = np.searchsorted(c.raw_var('Epoch_ChanP'), e0)\n",
    "read_to = len(c['Epoch_ChanP']) - f_start\n",
    "\n",
    "assert(np.all(c.raw_var('Epoch_ChanP')[f_start:f_start + read_to] == d.eventdata[0]['ChanP']['epoch'][:read_to]))\n",
    "nonnan = ~np.isnan(d.eventdata[0]['ChanP']['flux'][:read_to])\n",
    "assert(np.all((c['H_Flux_ChanP'][f_start:f_start + read_to] == d.eventdata[0]['ChanP']['flux'][:read_to])[nonnan]))\n",
    "\n",
    "print('This printed, so apparently file creation is working!')\n"
   ]
  },
  {
   "cell_type": "code",
   "execution_count": 5,
   "id": "7a424a14",
   "metadata": {},
   "outputs": [
    {
     "name": "stdout",
     "output_type": "stream",
     "text": [
      "This printed, so apparently all the energy deltas are consistent across look direction!\n"
     ]
    }
   ],
   "source": [
    "# check that energy_unc_plus and energy_unc_minus are the same everywhere\n",
    "for i, f in enumerate(d.eventdata):\n",
    "    e = types.SimpleNamespace(**copy.deepcopy(f['ChanP']))\n",
    "    \n",
    "    nonnan_plus = ~np.isnan(e.energy_unc_plus)\n",
    "    nonnan_minus = ~np.isnan(e.energy_unc_minus)\n",
    "    assert(np.all(nonnan_plus == nonnan_minus))\n",
    "\n",
    "    assert(np.all((e.energy_unc_plus[0, 0, :] == e.energy_unc_plus)[nonnan_plus]))\n",
    "    assert(np.all((e.energy_unc_minus[0, 0, :] == e.energy_unc_minus)[nonnan_minus]))\n",
    "\n",
    "print('This printed, so apparently all the energy deltas are consistent across look direction!')\n"
   ]
  },
  {
   "cell_type": "code",
   "execution_count": null,
   "id": "6d5e783a",
   "metadata": {},
   "outputs": [],
   "source": []
  }
 ],
 "metadata": {
  "kernelspec": {
   "display_name": "Python 3",
   "language": "python",
   "name": "python3"
  },
  "language_info": {
   "codemirror_mode": {
    "name": "ipython",
    "version": 3
   },
   "file_extension": ".py",
   "mimetype": "text/x-python",
   "name": "python",
   "nbconvert_exporter": "python",
   "pygments_lexer": "ipython3",
   "version": "3.6.13"
  }
 },
 "nbformat": 4,
 "nbformat_minor": 5
}
