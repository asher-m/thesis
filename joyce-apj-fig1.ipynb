{
 "cells": [
  {
   "cell_type": "code",
   "execution_count": 1,
   "id": "40151b33",
   "metadata": {},
   "outputs": [
    {
     "name": "stdout",
     "output_type": "stream",
     "text": [
      "This unreleased version of SpacePy is not supported by the SpacePy team.\n"
     ]
    }
   ],
   "source": [
    "import copy\n",
    "import matplotlib.pyplot as plt\n",
    "import numpy as np\n",
    "import types\n",
    "\n",
    "import data_jat as data\n"
   ]
  },
  {
   "cell_type": "code",
   "execution_count": 2,
   "id": "7e26dcd1",
   "metadata": {},
   "outputs": [
    {
     "name": "stdout",
     "output_type": "stream",
     "text": [
      "Found cached data from file eventdata_joyce-apj-tab2_20210420.pickle3.bz2, using contents...\n"
     ]
    }
   ],
   "source": [
    "d = data.Data('joyce-apj-tab2')\n",
    "d.read_data()\n"
   ]
  },
  {
   "cell_type": "code",
   "execution_count": 3,
   "id": "a2e3d93d",
   "metadata": {
    "scrolled": true
   },
   "outputs": [
    {
     "name": "stderr",
     "output_type": "stream",
     "text": [
      "/home/asher/.miniconda3/envs/dev/lib/python3.6/site-packages/ipykernel_launcher.py:63: RuntimeWarning: Mean of empty slice\n"
     ]
    }
   ],
   "source": [
    "r = list()\n",
    "l = list()\n",
    "\n",
    "def weighted_avg(arr, weights, axis=0):\n",
    "    arr = arr.copy()\n",
    "    weights = weights.copy()\n",
    "\n",
    "    nanidx = np.isnan(arr)\n",
    "    weights[nanidx] = 0\n",
    "    arr[nanidx] = 0\n",
    "\n",
    "    total = np.sum(arr * weights, axis=axis)\n",
    "    count = np.sum(weights, axis=axis)\n",
    "    \n",
    "    if len(total.shape) > 0:\n",
    "        countidx = count == 0\n",
    "        total[countidx] = np.nan\n",
    "        count[countidx] = 1\n",
    "    \n",
    "    return total / count\n",
    "\n",
    "\n",
    "for i, event in enumerate(d.eventdata):\n",
    "    e = types.SimpleNamespace(**copy.deepcopy(event['ChanP']))\n",
    "    \n",
    "    lookdir_idx = np.zeros((80), dtype=bool)\n",
    "    lookdir_idx[20:50] = True\n",
    "    lookdir_idx[np.array((25, 31, 34, 35, 44))] = False    \n",
    "    \n",
    "    fluxbad = np.isnan(e.flux)\n",
    "    fluxbad = np.min(fluxbad[:, lookdir_idx, :], axis=1)\n",
    "    fluxbad = np.min(fluxbad, axis=1)\n",
    "    fluxgood = ~fluxbad\n",
    "\n",
    "    l.append(np.sum(e.epoch_delta[fluxgood]) * 2)\n",
    "#     print(e.epoch[-1] + e.epoch_delta[-1] - (e.epoch[0] - e.epoch_delta[0]))\n",
    "#     print(np.min(e.epoch_delta))\n",
    "\n",
    "    \"\"\"\n",
    "    From Colin:\n",
    "    \n",
    "    > -For each energy bin and look direction, do the sum of (flux * delta t)\n",
    "    > over the entire quiet period, then divide by the total time of the quiet\n",
    "    > period (including the half delta-t at each end?) Is there any fill in\n",
    "    > the flux for this? Dividing by the total time if some time bins are fill\n",
    "    > would tend to decrease the flux (treating fill as zero).\n",
    "\n",
    "    Correct. I believe at that time, I did treat fills as zeros rather than removing the\n",
    "    points, which would have been better.\n",
    "    \"\"\"\n",
    "    # weighted average in time\n",
    "    weights = e.epoch_delta\n",
    "    # make weights the right dimensionality\n",
    "    weights = np.tile(weights[:, None, None], (1,) + e.flux.shape[1:])\n",
    "    for a in ('flux', 'energy_unc_plus', 'energy_unc_minus'):\n",
    "        setattr(e, a, weighted_avg(getattr(e, a), weights, axis=0))\n",
    "   \n",
    "    # make sure the time axis is gone:\n",
    "    assert(len(e.flux.shape) == 2)\n",
    "    \n",
    "    # get only lookdirs of interest and do lookdir average\n",
    "    for a in ('flux', 'energy_unc_plus', 'energy_unc_minus'):\n",
    "        setattr(e, a, np.nanmean(getattr(e, a)[lookdir_idx, :], axis=0))\n",
    "        \n",
    "    # make sure the lookdir axis is gone:\n",
    "    assert(len(e.flux.shape) == 1)\n",
    "    \n",
    "    ## do energy average\n",
    "    # weights = e.energy_unc_plus + e.energy_unc_minus\n",
    "    # flux = weighted_avg(e.flux, weights, axis=0)\n",
    "\n",
    "    r.append(e.flux * 1e3)  # times 1e3 to go from per keV to per MeV\n"
   ]
  },
  {
   "cell_type": "code",
   "execution_count": 4,
   "id": "27533ef2",
   "metadata": {},
   "outputs": [
    {
     "data": {
      "text/plain": [
       "[<matplotlib.lines.Line2D at 0x7fcc89aa99e8>]"
      ]
     },
     "execution_count": 4,
     "metadata": {},
     "output_type": "execute_result"
    },
    {
     "data": {
      "image/png": "[encoded data removed]",
      "text/plain": [
       "<Figure size 720x720 with 1 Axes>"
      ]
     },
     "metadata": {
      "needs_background": "light"
     },
     "output_type": "display_data"
    }
   ],
   "source": [
    "plt.figure(figsize=(10, 10))\n",
    "plt.xlabel('Energy (keV)')\n",
    "plt.xscale('log')\n",
    "plt.xlim(10e-3, 1e2)\n",
    "plt.ylabel('Flux (per keV)')\n",
    "plt.yscale('log')\n",
    "plt.ylim(1e-6, 1e4)\n",
    "\n",
    "for f in r:\n",
    "    plt.plot(e.energy[0, 0, :] / 1e3, f, 'b.')  # already scaled by 1e3\n",
    "    \n",
    "avg = np.average(np.stack(r, axis=0), weights=np.array(l), axis=0)\n",
    "plt.plot(e.energy[0, 0, :] / 1e3, avg, 'ro')\n"
   ]
  },
  {
   "cell_type": "code",
   "execution_count": null,
   "id": "4f17cd78",
   "metadata": {},
   "outputs": [],
   "source": []
  }
 ],
 "metadata": {
  "kernelspec": {
   "display_name": "Python 3",
   "language": "python",
   "name": "python3"
  },
  "language_info": {
   "codemirror_mode": {
    "name": "ipython",
    "version": 3
   },
   "file_extension": ".py",
   "mimetype": "text/x-python",
   "name": "python",
   "nbconvert_exporter": "python",
   "pygments_lexer": "ipython3",
   "version": "3.6.13"
  }
 },
 "nbformat": 4,
 "nbformat_minor": 5
}
