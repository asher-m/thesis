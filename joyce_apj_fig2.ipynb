{
 "cells": [
  {
   "cell_type": "code",
   "execution_count": 1,
   "id": "40151b33",
   "metadata": {},
   "outputs": [
    {
     "name": "stdout",
     "output_type": "stream",
     "text": [
      "This unreleased version of SpacePy is not supported by the SpacePy team.\n"
     ]
    }
   ],
   "source": [
    "import copy\n",
    "import matplotlib.pyplot as plt\n",
    "import numpy as np\n",
    "import types\n",
    "\n",
    "import data_jat as data\n"
   ]
  },
  {
   "cell_type": "code",
   "execution_count": 2,
   "id": "7e26dcd1",
   "metadata": {},
   "outputs": [
    {
     "name": "stdout",
     "output_type": "stream",
     "text": [
      "Found cached data from file eventdata_joyce-apj-background_20210420.pickle3.bz2, using contents...\n"
     ]
    }
   ],
   "source": [
    "d = data.Data('joyce-apj-background')\n",
    "d.read_data(force_cache=True)\n"
   ]
  },
  {
   "cell_type": "code",
   "execution_count": 3,
   "id": "a2e3d93d",
   "metadata": {
    "scrolled": false
   },
   "outputs": [
    {
     "name": "stderr",
     "output_type": "stream",
     "text": [
      "/home/asher/.miniconda3/envs/dev/lib/python3.6/site-packages/ipykernel_launcher.py:77: RuntimeWarning: Mean of empty slice\n"
     ]
    }
   ],
   "source": [
    "l = list()\n",
    "r = list()\n",
    "u = list()\n",
    "\n",
    "def weighted_avg(data, axis=0, weights=None, unc=False):\n",
    "    \"\"\"From Jon.  (Thanks Jon.)\"\"\"\n",
    "    if weights is None:\n",
    "        weights = np.empty(shape=data.shape, dtype=np.float64)\n",
    "        weights.fill(1.)\n",
    "    else:\n",
    "        weights = weights.copy()\n",
    "    data = data.copy()\n",
    "    \n",
    "    # Make NaN \"disappear\" from weights and input\n",
    "    nanidx = np.isnan(data)\n",
    "    weights[nanidx] = 0\n",
    "    data[nanidx] = 0\n",
    "    \n",
    "    if unc:\n",
    "        data = data ** 2\n",
    "    sum_ = np.sum(data * weights, axis=axis)\n",
    "    counts = np.sum(weights, axis=axis)\n",
    "    \n",
    "    if unc:\n",
    "        sum_ = np.sqrt(sum_)\n",
    "        \n",
    "    # If there are no counts after averaging, then nan the output\n",
    "    if len(sum_.shape) > 0:\n",
    "        nocountidx = (counts == 0)\n",
    "        counts[nocountidx] = 1\n",
    "        sum_[nocountidx] = np.nan\n",
    "    mean = sum_ / counts\n",
    "    \n",
    "    return mean\n",
    "\n",
    "\n",
    "for i, event in enumerate(d.eventdata):\n",
    "    e = types.SimpleNamespace(**copy.deepcopy(event['ChanP']))\n",
    "    \n",
    "    lookdir_idx = np.zeros((80), dtype=bool)\n",
    "    lookdir_idx[20:50] = True\n",
    "    lookdir_idx[np.array((25, 31, 34, 35, 44))] = False    \n",
    "    \n",
    "    fluxbad = np.isnan(e.flux)\n",
    "    fluxbad = np.min(fluxbad[:, lookdir_idx, :], axis=1)\n",
    "    fluxbad = np.min(fluxbad, axis=1)\n",
    "    fluxgood = ~fluxbad\n",
    "\n",
    "    l.append(np.sum(e.epoch_delta[fluxgood]) * 2)\n",
    "\n",
    "    \"\"\"\n",
    "    From Colin:\n",
    "    \n",
    "    > -For each energy bin and look direction, do the sum of (flux * delta t)\n",
    "    > over the entire quiet period, then divide by the total time of the quiet\n",
    "    > period (including the half delta-t at each end?) Is there any fill in\n",
    "    > the flux for this? Dividing by the total time if some time bins are fill\n",
    "    > would tend to decrease the flux (treating fill as zero).\n",
    "\n",
    "    Correct. I believe at that time, I did treat fills as zeros rather than removing the\n",
    "    points, which would have been better.\n",
    "    \"\"\"\n",
    "    # weighted average in time\n",
    "    weights = e.epoch_delta\n",
    "    # make weights the right dimensionality\n",
    "    weights = np.tile(weights[:, None, None], (1,) + e.flux.shape[1:])\n",
    "    for a in ('flux', 'energy_unc_plus', 'energy_unc_minus'):\n",
    "        setattr(e, a, weighted_avg(getattr(e, a), weights=weights, axis=0))\n",
    "    weights_unc = weights / np.nanmean(weights)\n",
    "    setattr(e, 'flux_unc', weighted_avg(getattr(e, 'flux_unc'), weights=weights_unc, axis=0, unc=True))\n",
    "   \n",
    "    # make sure the time axis is gone:\n",
    "    assert(len(e.flux.shape) == 2)\n",
    "    \n",
    "    # get only lookdirs of interest and do lookdir average\n",
    "    for a in ('flux', 'energy_unc_plus', 'energy_unc_minus'):\n",
    "        setattr(e, a, np.nanmean(getattr(e, a)[lookdir_idx, :], axis=0))\n",
    "    setattr(e, 'flux_unc', weighted_avg(getattr(e, 'flux_unc')[lookdir_idx, :], axis=0, unc=True))\n",
    "        \n",
    "    # make sure the lookdir axis is gone:\n",
    "    assert(len(e.flux.shape) == 1)\n",
    "    \n",
    "    r.append(e.flux * 1e3)  # times 1e3 to go from per keV to per MeV\n",
    "    u.append(e.flux_unc * 1e3)\n"
   ]
  },
  {
   "cell_type": "code",
   "execution_count": 4,
   "id": "27533ef2",
   "metadata": {},
   "outputs": [
    {
     "name": "stdout",
     "output_type": "stream",
     "text": [
      "(13, 48)\n",
      "(13, 48)\n",
      "(13, 48)\n"
     ]
    },
    {
     "data": {
      "image/png": "[encoded data removed]",
      "text/plain": [
       "<Figure size 720x720 with 1 Axes>"
      ]
     },
     "metadata": {
      "needs_background": "light"
     },
     "output_type": "display_data"
    }
   ],
   "source": [
    "plt.figure(figsize=(10, 10))\n",
    "plt.xlabel('Energy (MeV)')\n",
    "plt.xscale('log')\n",
    "plt.xlim(10e-3, 1e2)\n",
    "plt.ylabel('Flux (per MeV)')\n",
    "plt.yscale('log')\n",
    "plt.ylim(1e-6, 1e4)\n",
    "plt.title('My Data')\n",
    "\n",
    "for f in r:\n",
    "    plt.plot(e.energy[0, 0, :] / 1e3, f, 'c.')  # already scaled by 1e3\n",
    "\n",
    "\n",
    "r = np.stack(r, axis=0)\n",
    "u = np.stack(u, axis=0)\n",
    "    \n",
    "w = np.array(l)\n",
    "w = w / np.nanmean(w)\n",
    "w = np.tile(w[:, None], (1,) + u.shape[1:])\n",
    "\n",
    "print(r.shape)\n",
    "print(u.shape)\n",
    "print(w.shape)\n",
    "\n",
    "avg = weighted_avg(r, weights=w, axis=0)\n",
    "err = weighted_avg(u, axis=0, weights=w, unc=True)\n",
    "plt.errorbar(e.energy[0, 0, :] / 1e3, avg, yerr=err, fmt='bo')\n",
    "plt.savefig('joyce-apj-fig1.png')\n"
   ]
  }
 ],
 "metadata": {
  "kernelspec": {
   "display_name": "Python 3",
   "language": "python",
   "name": "python3"
  },
  "language_info": {
   "codemirror_mode": {
    "name": "ipython",
    "version": 3
   },
   "file_extension": ".py",
   "mimetype": "text/x-python",
   "name": "python",
   "nbconvert_exporter": "python",
   "pygments_lexer": "ipython3",
   "version": "3.6.13"
  }
 },
 "nbformat": 4,
 "nbformat_minor": 5
}
